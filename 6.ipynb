{
 "cells": [
  {
   "cell_type": "markdown",
   "metadata": {},
   "source": [
    "<p></p>\n",
    "<br />\n",
    "<div id=\"sec_intro_to_intro\" style=\"direction:ltl;line-height:300%;\">\n",
    "\t<font face=\"XB Zar\" size=5>\n",
    "\t\t<font color=#FF7500 size=6>\n",
    "            36 Theory\n",
    "        </font>\n",
    "\t\t<p></p>\n",
    "\t\t<hr>\n",
    "        if there is an edge between i and j$$ P_i,_j = \\frac {1}{d_i} $$   \n",
    "        else\n",
    "        $$ P_i,_j = 0  \\\\\\\\$$         \n",
    "        $$\n",
    "        \\begin{aligned}\n",
    "    P_i,_j=\\begin{cases}\n",
    "        \\frac {1}{d_i} & \\text{if there is an edge between i and j}\\\\\n",
    "        0 & \\text{o.w}\\\\\n",
    "    \\end{cases}\n",
    "\\end{aligned}\n",
    "  $$\n",
    "        <br />\n",
    "\t</font>\n",
    "</div>"
   ]
  },
  {
   "cell_type": "markdown",
   "metadata": {},
   "source": [
    "<p></p>\n",
    "<br />\n",
    "<div id=\"sec_intro_to_intro\" style=\"direction:ltl;line-height:300%;\">\n",
    "\t<font face=\"XB Zar\" size=5>\n",
    "\t\t<font color=#FF7500 size=6>\n",
    "            37 Theory\n",
    "        </font>\n",
    "\t\t<p></p>\n",
    "\t\t<hr>\n",
    "        $$ A_{i,j} = d_iP_{i,j} $$\n",
    "        then:\n",
    "        $$ A = DP  $$\n",
    "        $$ P = D^{-1}A  $$\n",
    "        <br />\n",
    "\t</font>\n",
    "</div>"
   ]
  },
  {
   "cell_type": "markdown",
   "metadata": {},
   "source": [
    "<p></p>\n",
    "<br />\n",
    "<div id=\"sec_intro_to_intro\" style=\"direction:ltl;line-height:300%;\">\n",
    "\t<font face=\"XB Zar\" size=5>\n",
    "\t\t<font color=\"red\" size=20>\n",
    "            WARNING : declare $\\frac{1}{d_i} = 0 \\ \\ \\    $ if $d_i = 0$\n",
    "        </font>\n",
    "\t\t<p></p>\n",
    "\t\t<hr>\n",
    "        <br />\n",
    "\t</font>\n",
    "</div>"
   ]
  },
  {
   "cell_type": "markdown",
   "metadata": {},
   "source": [
    "<p></p>\n",
    "<br />\n",
    "<div id=\"sec_intro_to_intro\" style=\"direction:ltl;line-height:300%;\">\n",
    "\t<font face=\"XB Zar\" size=5>\n",
    "\t\t<font color=#FF7500 size=6>\n",
    "            38 Theory\n",
    "        </font>\n",
    "\t\t<p></p>\n",
    "\t\t<hr>\n",
    "        $$ P^2_{i,j} =   {\\sum_{k=1}^{n}P_i,_kP_{k,j}}= \\frac {1}{d_i} \\sum_{j = 1}^n\\frac{1}{d_j}$$  \n",
    "        <br />\n",
    "        Because each step is independent of the previous step, this value indicates the probability of transition from i to j through a path of length two \n",
    "\t</font>\n",
    "</div>"
   ]
  },
  {
   "cell_type": "markdown",
   "metadata": {},
   "source": [
    "<p></p>\n",
    "<br />\n",
    "<div id=\"sec_intro_to_intro\" style=\"direction:ltl;line-height:300%;\">\n",
    "\t<font face=\"XB Zar\" size=5>\n",
    "\t\t<font color=#FF7500 size=6>\n",
    "            39 Theory\n",
    "        </font>\n",
    "\t\t<p></p>\n",
    "\t\t<hr>\n",
    "        $$ P^{(t)}_{i,j} =(D^{-1}A)^{(t)}_{i,j} \\ show \\ probability \\ of \\  transition \\ from \\ i \\ to \\ j \\ through \\ a \\ path \\ of \\ length \\ t $$  \n",
    "        $$P^{(t)}_{i,j} = \\frac {1}{d_i} (\\sum_{k=1}^{n}(\\frac {1}{d_k}))^{t-1} $$\n",
    "        <br />   \n",
    "\t</font>\n",
    "</div>"
   ]
  },
  {
   "cell_type": "markdown",
   "metadata": {},
   "source": [
    "<p></p>\n",
    "<br />\n",
    "<div id=\"sec_intro_to_intro\" style=\"direction:ltl;line-height:300%;\">\n",
    "\t<font face=\"XB Zar\" size=5>\n",
    "\t\t<font color=#FF7500 size=6>\n",
    "            40 Theory\n",
    "        </font>\n",
    "\t\t<p></p>\n",
    "\t\t<hr>\n",
    "              $$P^{(t)}_{i,j} = \\frac {1}{d_i} (\\sum_{k=1}^{n}(\\frac {1}{d_k}))^{t-1}\\\\$$\n",
    "                 $$P^{(t)}_{j,i} = \\frac {1}{d_j} (\\sum_{k=1}^{n}(\\frac {1}{d_k}))^{t-1} \\\\ $$\n",
    "        $$ \\frac {P^{(t)}_{i,j}}{P^{(t)}_{j,i}} = \\frac {d_j}{d_i}$$\n",
    "        <br />   \n",
    "\t</font>\n",
    "</div>"
   ]
  },
  {
   "cell_type": "markdown",
   "metadata": {},
   "source": [
    "<p></p>\n",
    "<br />\n",
    "<div id=\"sec_intro_to_intro\" style=\"direction:ltl;line-height:300%;\">\n",
    "\t<font face=\"XB Zar\" size=5>\n",
    "\t\t<font color=#FF7500 size=6>\n",
    "            41 Theory\n",
    "        </font>\n",
    "\t\t<p></p>\n",
    "\t\t<hr>\n",
    "       If both of them are in the same cluster, $P^{(t)}_{i,j}$ is a large value, but if they are in two different clusters, the value of $P^{(t)}_i,_j$ will be less, also in the case that they are in the same cluster, $P^{(t)}_{i,k}$ and $P^{(t)}_{j,k}$ are close to each other, but if If they are in two clusters, their value is not related to each other\n",
    "        <br />   \n",
    "\t</font>\n",
    "</div>"
   ]
  },
  {
   "cell_type": "markdown",
   "metadata": {},
   "source": [
    "<p></p>\n",
    "<br />\n",
    "<div id=\"sec_intro_to_intro\" style=\"direction:ltl;line-height:300%;\">\n",
    "\t<font face=\"XB Zar\" size=5>\n",
    "\t\t<font color=#FF7500 size=6>\n",
    "            42 Theory\n",
    "        </font>\n",
    "\t\t<p></p>\n",
    "\t\t<hr>\n",
    "        We sum up all the clusters and calculate the average (C show cluster and n is number of clusters):        \n",
    "        $$P^{(t)}_{C1,C2} = \\frac {1}{|C1||C2|}\\sum_{i \\in C1,j\\in C2}P^{(t)}_{i,j}$$\n",
    "        $$ r_{i,j} = \\sqrt{ \\sum_{k=1}^{n} \\frac {(P^{(t)}_{C_i,C_k} - P^{(t)}_{C_k,C_j})^2}{d_{c_k}} }$$\n",
    "        <br />   \n",
    "\t</font>\n",
    "</div>"
   ]
  },
  {
   "cell_type": "markdown",
   "metadata": {},
   "source": [
    "<p></p>\n",
    "<br />\n",
    "<div id=\"sec_intro_to_intro\" style=\"direction:ltl;line-height:300%;\">\n",
    "\t<font face=\"XB Zar\" size=5>\n",
    "\t\t<font color=#FF7500 size=6>\n",
    "            43 Theory\n",
    "        </font>\n",
    "\t\t<p></p>\n",
    "\t\t<hr>\n",
    "        $$ Q = \\sum_{k=1}^{n} (\\frac {i_k}{m}- (\\frac {d_k}{2m})^2) $$ wich n is number of clusters , m is number of edges , $i_k$ show number of edges in cluster k and $d_k$ show sum of degrees in cluster k       \n",
    "        <br />   \n",
    "\t</font>\n",
    "</div>"
   ]
  },
  {
   "cell_type": "markdown",
   "metadata": {},
   "source": [
    "<p></p>\n",
    "<br />\n",
    "<div id=\"sec_intro_to_intro\" style=\"direction:ltl;line-height:300%;\">\n",
    "\t<font face=\"XB Zar\" size=5>\n",
    "\t\t<font color=#FF7500 size=6>\n",
    "            28 practical\n",
    "        </font>\n",
    "        <br />   \n",
    "\t</font>\n",
    "</div>"
   ]
  },
  {
   "cell_type": "code",
   "execution_count": null,
   "metadata": {},
   "outputs": [],
   "source": []
  },
  {
   "cell_type": "markdown",
   "metadata": {},
   "source": [
    "<p></p>\n",
    "<br />\n",
    "<div id=\"sec_intro_to_intro\" style=\"direction:ltl;line-height:300%;\">\n",
    "\t<font face=\"XB Zar\" size=5>\n",
    "\t\t<font color=#FF7500 size=6>\n",
    "            29 practical\n",
    "        </font>\n",
    "        <br />   \n",
    "\t</font>\n",
    "</div>"
   ]
  },
  {
   "cell_type": "code",
   "execution_count": null,
   "metadata": {},
   "outputs": [],
   "source": []
  }
 ],
 "metadata": {
  "kernelspec": {
   "display_name": "R",
   "language": "R",
   "name": "ir"
  },
  "language_info": {
   "codemirror_mode": "r",
   "file_extension": ".r",
   "mimetype": "text/x-r-source",
   "name": "R",
   "pygments_lexer": "r",
   "version": "4.2.2"
  },
  "latex_envs": {
   "LaTeX_envs_menu_present": true,
   "autoclose": false,
   "autocomplete": true,
   "bibliofile": "biblio.bib",
   "cite_by": "apalike",
   "current_citInitial": 1,
   "eqLabelWithNumbers": true,
   "eqNumInitial": 1,
   "hotkeys": {
    "equation": "Ctrl-E",
    "itemize": "Ctrl-I"
   },
   "labels_anchors": false,
   "latex_user_defs": false,
   "report_style_numbering": false,
   "user_envs_cfg": false
  },
  "toc": {
   "base_numbering": 1,
   "nav_menu": {},
   "number_sections": true,
   "sideBar": true,
   "skip_h1_title": false,
   "title_cell": "Table of Contents",
   "title_sidebar": "Contents",
   "toc_cell": false,
   "toc_position": {},
   "toc_section_display": true,
   "toc_window_display": false
  },
  "varInspector": {
   "cols": {
    "lenName": 16,
    "lenType": 16,
    "lenVar": 40
   },
   "kernels_config": {
    "python": {
     "delete_cmd_postfix": "",
     "delete_cmd_prefix": "del ",
     "library": "var_list.py",
     "varRefreshCmd": "print(var_dic_list())"
    },
    "r": {
     "delete_cmd_postfix": ") ",
     "delete_cmd_prefix": "rm(",
     "library": "var_list.r",
     "varRefreshCmd": "cat(var_dic_list()) "
    }
   },
   "types_to_exclude": [
    "module",
    "function",
    "builtin_function_or_method",
    "instance",
    "_Feature"
   ],
   "window_display": false
  }
 },
 "nbformat": 4,
 "nbformat_minor": 1
}
