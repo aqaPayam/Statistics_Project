{
 "cells": [
  {
   "cell_type": "markdown",
   "metadata": {},
   "source": [
    "<p></p>\n",
    "<br />\n",
    "<div id=\"sec_intro_to_intro\" style=\"direction:ltl;line-height:300%;\">\n",
    "\t<font face=\"XB Zar\" size=5>\n",
    "\t\t<font color=#FF7500 size=6>\n",
    "            23 Theory\n",
    "        </font>\n",
    "\t\t<p></p>\n",
    "\t\t<hr>\n",
    "       We have a total of C(n,2) edges, m of which are of the same manner, which will happen with a probability of p, so:\n",
    "        $$ Probability = p^m(1-p)^{C_{(n,2)}-m}=p^m(1-p)^{ \\frac {n(n-1)}{2}-m} $$\n",
    "        <br />\n",
    "\t</font>\n",
    "</div>"
   ]
  },
  {
   "cell_type": "markdown",
   "metadata": {},
   "source": [
    "<p></p>\n",
    "<br />\n",
    "<div id=\"sec_intro_to_intro\" style=\"direction:ltl;line-height:300%;\">\n",
    "\t<font face=\"XB Zar\" size=5>\n",
    "\t\t<font color=#FF7500 size=6>\n",
    "            24 Theory\n",
    "        </font>\n",
    "\t\t<p></p>\n",
    "\t\t<hr>\n",
    "       We have to choose m edges out of C(n,2) available edges, all these situations are possible, but only one of these situations is the correct answer, so probability is :\n",
    "        $$ Probability = \\frac {1}{C_ { (C{(n,2)},m) } } = \\frac {1}{ \\frac{n(n-1)}{2}\\choose m} =\n",
    "        \\frac {m! (\\frac{n(n-1)}{2} - m)! }{(\\frac{n(n-1)}{2})!}$$\n",
    "        <br />\n",
    "\t</font>\n",
    "</div>"
   ]
  },
  {
   "cell_type": "markdown",
   "metadata": {},
   "source": [
    "<p></p>\n",
    "<br />\n",
    "<div id=\"sec_intro_to_intro\" style=\"direction:ltl;line-height:300%;\">\n",
    "\t<font face=\"XB Zar\" size=5>\n",
    "\t\t<font color=#FF7500 size=6>\n",
    "            25 Theory\n",
    "        </font>\n",
    "\t\t<p></p>\n",
    "\t\t<hr>\n",
    "To determine 20% of relationships, we have C(m,0.2m) states, and by multiplying the probability of each state, we get the following answer:\n",
    "        $$   Probability = C(m,\\frac {m}{5}) p^{0.2m}(1-p)^{0.8m} = \\frac {m!}{(0.2m)!(0.8m)!} p^{0.2m}(1-p)^{0.8m} $$\n",
    "        <br />\n",
    "\t</font>\n",
    "</div>"
   ]
  },
  {
   "cell_type": "markdown",
   "metadata": {},
   "source": [
    "<p></p>\n",
    "<br />\n",
    "<div id=\"sec_intro_to_intro\" style=\"direction:ltl;line-height:300%;\">\n",
    "\t<font face=\"XB Zar\" size=5>\n",
    "\t\t<font color=#FF7500 size=6>\n",
    "            17 Practical\n",
    "        </font>\n",
    "\t\t<p></p>\n",
    "\t\t<hr>\n",
    "\t</font>\n",
    "</div>"
   ]
  },
  {
   "cell_type": "code",
   "execution_count": 32,
   "metadata": {},
   "outputs": [
    {
     "name": "stdout",
     "output_type": "stream",
     "text": [
      "[1652, 1741, 1715, 1663, 1709, 1660, 1711, 1701, 1671, 1687]\n",
      "1691.0\n"
     ]
    }
   ],
   "source": [
    "import numpy as np\n",
    "import networkx as nx\n",
    "import matplotlib.pyplot as plt\n",
    "import scipy as sp\n",
    "from scipy.stats import bernoulli\n",
    "import random\n",
    "import matplotlib.pyplot as plt\n",
    "from matplotlib.pyplot import figure\n",
    "\n",
    "n = 1000\n",
    "p = 0.0034\n",
    "N = 10\n",
    "m = 3000\n",
    "\n",
    "\n",
    "result = []\n",
    "for i in range(N):\n",
    "    tp = np.random.binomial(n*(n-1)//2,p,1)\n",
    "    result.append(np.sum(tp))\n",
    "    \n",
    "print(result)\n",
    "print(np.mean(result))\n"
   ]
  },
  {
   "cell_type": "markdown",
   "metadata": {},
   "source": [
    "<p></p>\n",
    "<br />\n",
    "<div id=\"sec_intro_to_intro\" style=\"direction:ltl;line-height:300%;\">\n",
    "\t<font face=\"XB Zar\" size=5>\n",
    "\t\t<font color=#FF7500 size=6>\n",
    "            26 Theory\n",
    "        </font>\n",
    "\t\t<p></p>\n",
    "\t\t<hr>\n",
    "edge ~ Bernouli(p) so if Y = sum of all edges ,Y ~ Binomial(C(n,2),p) \n",
    "        $$   E[Y] = {n \\choose 2}p = \\frac {n(n-1)}{2}p  \\\\ E[Y]=1691.0$$\n",
    "        let E[Y] = m with error e:\n",
    "        $$  (1-e)m <=  E[Y] <= (1+e)m \\\\$$\n",
    "        $$  (1-e)m <=  \\frac {n(n-1)}{2}p <= (1+e)m$$\n",
    "        <br />\n",
    "\t</font>\n",
    "</div>"
   ]
  },
  {
   "cell_type": "markdown",
   "metadata": {},
   "source": [
    "<p></p>\n",
    "<br />\n",
    "<div id=\"sec_intro_to_intro\" style=\"direction:ltl;line-height:300%;\">\n",
    "\t<font face=\"XB Zar\" size=5>\n",
    "\t\t<font color=#FF7500 size=6>\n",
    "            18 Practical\n",
    "        </font>\n",
    "\t\t<p></p>\n",
    "\t\t<hr>\n",
    "\t</font>\n",
    "</div>"
   ]
  },
  {
   "cell_type": "code",
   "execution_count": 37,
   "metadata": {},
   "outputs": [
    {
     "name": "stdout",
     "output_type": "stream",
     "text": [
      "miu 146.8\n",
      "[8532, 1361, 100, 7, 0]\n"
     ]
    },
    {
     "data": {
      "image/png": "[encoded data removed]",
      "text/plain": [
       "<Figure size 425x425 with 1 Axes>"
      ]
     },
     "metadata": {},
     "output_type": "display_data"
    }
   ],
   "source": [
    "def createMatrix(p, n):\n",
    "    res = []\n",
    "    for i in range(n):\n",
    "        res.append(bernoulli.rvs( p=p, size=n))\n",
    "    res=np.reshape(res,(n,n))  \n",
    "    np.fill_diagonal(res,0)\n",
    "    res = np.triu(res)\n",
    "    res = res + res.T\n",
    "    return res\n",
    "\n",
    "\n",
    "def numberOfSameColor(array):\n",
    "    numberOfHamrang = 0\n",
    "    L = np.sum(np.sum(array))/len(array[0])\n",
    "    for row in a:\n",
    "        if (np.sum(row) > L):\n",
    "            numberOfHamrang = numberOfHamrang+1\n",
    "    return numberOfHamrang\n",
    "\n",
    "\n",
    "n = 1000\n",
    "p = 0.00016\n",
    "N = 10\n",
    "\n",
    "\n",
    "\n",
    "sameArr = []\n",
    "allArr = []\n",
    "for i in range(N):\n",
    "    a = createMatrix(p, n)\n",
    "    for row in a:\n",
    "        allArr.append(np.sum(row))\n",
    "    sameArr.append(numberOfSameColor(a))\n",
    "print(\"miu\" , np.mean(sameArr) )\n",
    "\n",
    "yArray = []\n",
    "xArray = []\n",
    "for i in range(n):\n",
    "    yArray.append(allArr.count(i))\n",
    "yArrayM = []\n",
    "for i in range(5):\n",
    "    yArrayM.append(yArray[i])\n",
    "    xArray.append(i)\n",
    "print(yArrayM)\n",
    "\n",
    "figure(figsize=(5, 5), dpi=85)\n",
    "plt.bar(xArray, yArrayM, color=\"blue\")\n",
    "plt.xlabel(\"number of people with same manner\")\n",
    "plt.ylabel(\"density\")\n",
    "plt.show()"
   ]
  },
  {
   "cell_type": "markdown",
   "metadata": {},
   "source": [
    "<p></p>\n",
    "<br />\n",
    "<div id=\"sec_intro_to_intro\" style=\"direction:ltl;line-height:300%;\">\n",
    "\t<font face=\"XB Zar\" size=5>\n",
    "\t\t<font color=#FF7500 size=6>\n",
    "            27 Theory\n",
    "        </font>\n",
    "\t\t<p></p>\n",
    "\t\t<hr>\n",
    "        $$ let \\ A_v \\ show \\ number \\ of \\  same \\ manner \\ person \\ of \\ v \\\\ $$\n",
    "$$ \\sum A_v = \\sum d_v = 2Y  \\ \\ \\ \\  \\ So  :  \\ \\ \\ \\  nE[d_v]=2E[Y] \\\\$$\n",
    "        $$   E[A_v]=\\frac {2}{n}\\frac {n(n-1)}{2}p = (n-1)p = 0.15984 $$\n",
    "        <br />\n",
    "\t</font>\n",
    "</div>"
   ]
  },
  {
   "cell_type": "markdown",
   "metadata": {},
   "source": [
    "<p></p>\n",
    "<br />\n",
    "<div id=\"sec_intro_to_intro\" style=\"direction:ltl;line-height:300%;\">\n",
    "\t<font face=\"XB Zar\" size=5>\n",
    "\t\t<font color=#FF7500 size=6>\n",
    "            28 Theory\n",
    "        </font>\n",
    "\t\t<p></p>\n",
    "\t\t<hr>\n",
    "$$ It \\ is \\ obvious\\ that\\ according \\ to \\ complementary \\ set \\ we \\ can \\ say\\\\ Probability = 1 - (1-p)^{n-1}\n",
    " = 0.14773 \\\\ $$\n",
    "        we declare indicator variable I ~ Bernouli(0.14773)\n",
    "        $$  \n",
    "\\begin{aligned}\n",
    "    I_{i}=\\begin{cases}\n",
    "        1 & \\text{p = 0.14773}\\\\\n",
    "        0 & \\text{q = 1-p}\\\\\n",
    "    \\end{cases}\n",
    "\\end{aligned} \n",
    "$$ \n",
    "       $$\n",
    "        E[ \\sum I_i] =  \\sum E[ I_i] = nE[I]= np = 147.73\n",
    "       $$\n",
    "        <br />\n",
    "\t</font>\n",
    "</div>"
   ]
  },
  {
   "cell_type": "markdown",
   "metadata": {},
   "source": [
    "<p></p>\n",
    "<br />\n",
    "<div id=\"sec_intro_to_intro\" style=\"direction:ltl;line-height:300%;\">\n",
    "\t<font face=\"XB Zar\" size=5>\n",
    "\t\t<font color=#FF7500 size=6>\n",
    "            19 Practical\n",
    "        </font>\n",
    "\t\t<p></p>\n",
    "\t\t<hr>\n",
    "\t</font>\n",
    "</div>"
   ]
  },
  {
   "cell_type": "code",
   "execution_count": 7,
   "metadata": {},
   "outputs": [
    {
     "name": "stdout",
     "output_type": "stream",
     "text": [
      "1394.0 400228.0\n",
      "1336.0 392588.0\n",
      "1357.0 398444.0\n",
      "1353.0 400375.0\n",
      "1373.0 395125.0\n",
      "mean[transition] :  1362.6\n",
      "mean[chain link] :  397352.0\n"
     ]
    }
   ],
   "source": [
    "n = 3000\n",
    "p = 0.01\n",
    "\n",
    "def inter(n,p):\n",
    "    A= createMatrix(p,n)\n",
    "    Anot = np.where(A>0,0,1)\n",
    "    np.fill_diagonal(Anot,0)\n",
    "    B = np.matmul(A,A)\n",
    "    C = np.multiply(A,B)\n",
    "    D = np.multiply(Anot, B)\n",
    "    return np.sum(C)/6, np.sum(D)/2\n",
    "\n",
    "chain = []\n",
    "transition = []\n",
    "for i in range(5):\n",
    "    a,b = inter(n,p)\n",
    "    print(a,b)\n",
    "    chain.append(b)\n",
    "    transition.append(a)\n",
    "print(\"mean[transition] : \",np.mean(transition))\n",
    "print(\"mean[chain link] : \" , np.mean(chain))"
   ]
  },
  {
   "cell_type": "markdown",
   "metadata": {},
   "source": [
    "<p></p>\n",
    "<br />\n",
    "<div id=\"sec_intro_to_intro\" style=\"direction:ltl;line-height:300%;\">\n",
    "\t<font face=\"XB Zar\" size=5>\n",
    "\t\t<font color=#FF7500 size=6>\n",
    "            29 Theory\n",
    "        </font>\n",
    "\t\t<p></p>\n",
    "\t\t<hr>\n",
    "The probability of a triangle being transposed becomes $ p^3 $ , which can be said by defining a indicator random variable and using $E[\\Sigma I]$:\n",
    "        $$ E[number \\ of\\  transpose\\ triangles]= {n \\choose 3}p^3$$\n",
    "        It is similar to the same method for the number of chain triangles $3{n \\choose 3}$, which gives the result:\n",
    "         $$ E[number \\ of\\  chain\\ triangles]= 3{n \\choose 3}p^2(1-p)$$\n",
    "        𝐼𝑡 𝑖𝑠 𝑜𝑏𝑣𝑖𝑜𝑢𝑠 𝑡ℎ𝑎𝑡 The probability of a triangle being chain becomes $ p^2(1-p) $\n",
    "        <br />\n",
    "\t</font>\n",
    "</div>"
   ]
  },
  {
   "cell_type": "markdown",
   "metadata": {},
   "source": [
    "<p></p>\n",
    "<br />\n",
    "<div id=\"sec_intro_to_intro\" style=\"direction:ltl;line-height:300%;\">\n",
    "\t<font face=\"XB Zar\" size=5>\n",
    "\t\t<font color=#FF7500 size=6>\n",
    "            30 Theory\n",
    "        </font>\n",
    "\t\t<p></p>\n",
    "        Out of every 3 people, each of the people has the same manner as at least one of the other two people, so these 3 people are a chain triangle or transpose, which according to the conditional probability, we can get the probability of 𝑡𝑟𝑎𝑛𝑠𝑝𝑜𝑠𝑒:\n",
    "        $$ Probability = \\frac {𝐸[𝑛𝑢𝑚𝑏𝑒𝑟\\ 𝑜𝑓 \\ 𝑡𝑟𝑎𝑛𝑠𝑝𝑜𝑠𝑒 \\ 𝑡𝑟𝑖𝑎𝑛𝑔𝑙𝑒𝑠]}{𝐸[𝑛𝑢𝑚𝑏𝑒𝑟\\ 𝑜𝑓 \\ 𝑐ℎ𝑎𝑖𝑛 \\ 𝑡𝑟𝑖𝑎𝑛𝑔𝑙𝑒𝑠]+𝐸[𝑛𝑢𝑚𝑏𝑒𝑟 \\ 𝑜𝑓 \\ 𝑡𝑟𝑎𝑛𝑠𝑝𝑜𝑠𝑒 \\ 𝑡𝑟𝑖𝑎𝑛𝑔𝑙𝑒𝑠]} \\\\$$\n",
    "        $$ \\\\ Probability = \\frac {{n \\choose 3}p^3}{3{n \\choose 3}p^2(1-p)+{n \\choose 3}p^3}=\n",
    "        \\frac {p^3}{3p^2(1-p)+p^3} = \\frac {p}{3 - 2p} $$\n",
    "        <br />\n",
    "\t</font>\n",
    "</div>"
   ]
  },
  {
   "cell_type": "markdown",
   "metadata": {},
   "source": [
    "<p></p>\n",
    "<br />\n",
    "<div id=\"sec_intro_to_intro\" style=\"direction:ltl;line-height:300%;\">\n",
    "\t<font face=\"XB Zar\" size=5>\n",
    "\t\t<font color=#FF7500 size=6>\n",
    "            20 Practical\n",
    "        </font>\n",
    "\t\t<p></p>\n",
    "\t\t<hr>\n",
    "\t</font>\n",
    "</div>"
   ]
  },
  {
   "cell_type": "code",
   "execution_count": 8,
   "metadata": {},
   "outputs": [
    {
     "name": "stdout",
     "output_type": "stream",
     "text": [
      "4.533\n"
     ]
    }
   ],
   "source": [
    "n=1000\n",
    "p=0.03\n",
    "A= createMatrix(p,n)\n",
    "B = np.matmul(A,A)\n",
    "C = np.multiply(A,B)\n",
    "print (np.sum(C)/(6*n))"
   ]
  },
  {
   "cell_type": "markdown",
   "metadata": {},
   "source": [
    "<p></p>\n",
    "<br />\n",
    "<div id=\"sec_intro_to_intro\" style=\"direction:ltl;line-height:300%;\">\n",
    "\t<font face=\"XB Zar\" size=5>\n",
    "\t\t<font color=#FF7500 size=6>\n",
    "            31 Theory\n",
    "        </font>\n",
    "\t\t<p></p>\n",
    "        We need the number of transpose triangles whose vertex is i and let it name be $A_i $\n",
    "        $$ nA_i = 3 * number \\ of \\ triangle \\\\  \\\\ nE[A_i]=3E[ number \\ of \\ triangle] \\\\ $$\n",
    "        $$ nE[A_i]=3{n \\choose 3}p^3  \\\\ \\\\$$\n",
    "        $$ \\\\ E[A_i]= \\frac {3{n \\choose 3}p^3}{n}$$\n",
    "        <br />\n",
    "\t</font>\n",
    "</div>"
   ]
  },
  {
   "cell_type": "markdown",
   "metadata": {},
   "source": [
    "<p></p>\n",
    "<br />\n",
    "<div id=\"sec_intro_to_intro\" style=\"direction:ltl;line-height:300%;\">\n",
    "\t<font face=\"XB Zar\" size=5>\n",
    "\t\t<font color=#FF7500 size=6>\n",
    "            21 Practical\n",
    "        </font>\n",
    "\t\t<p></p>\n",
    "\t\t<hr>\n",
    "\t</font>\n",
    "</div>"
   ]
  },
  {
   "cell_type": "code",
   "execution_count": 9,
   "metadata": {},
   "outputs": [
    {
     "name": "stdout",
     "output_type": "stream",
     "text": [
      "5.205615615615615\n"
     ]
    }
   ],
   "source": [
    "n=1000\n",
    "p=0.0033\n",
    "\n",
    "A= createMatrix(p,n)\n",
    "A = nx.floyd_warshall_numpy(nx.from_numpy_array(A))\n",
    "A = np.where(A > n+1,0,A)\n",
    "\n",
    "paths_count = (n)*(n-1)\n",
    "print(np.sum(A)/paths_count)\n",
    "\n"
   ]
  },
  {
   "cell_type": "markdown",
   "metadata": {},
   "source": [
    "<p></p>\n",
    "<br />\n",
    "<div id=\"sec_intro_to_intro\" style=\"direction:ltl;line-height:300%;\">\n",
    "\t<font face=\"XB Zar\" size=5>\n",
    "\t\t<font color=#FF7500 size=6>\n",
    "            22 Practical\n",
    "        </font>\n",
    "\t\t<p></p>\n",
    "\t\t<hr>\n",
    "\t</font>\n",
    "</div>"
   ]
  },
  {
   "cell_type": "code",
   "execution_count": 40,
   "metadata": {},
   "outputs": [
    {
     "name": "stdout",
     "output_type": "stream",
     "text": [
      "mean is  2.76\n"
     ]
    }
   ],
   "source": [
    "n=50\n",
    "p=0.34\n",
    "\n",
    "def test(n,p):\n",
    "    A= createMatrix(p,n)\n",
    "    A = nx.floyd_warshall_numpy(nx.from_numpy_array(A))\n",
    "    A = np.where(A > n+1,0,A)\n",
    "    return np.max(A)\n",
    "\n",
    "sum = 0\n",
    "for i in range(100):\n",
    "    sum += test(n,p)\n",
    "print (\"mean is \",sum/100)"
   ]
  },
  {
   "cell_type": "markdown",
   "metadata": {},
   "source": [
    "<p></p>\n",
    "<br />\n",
    "<div id=\"sec_intro_to_intro\" style=\"direction:ltl;line-height:300%;\">\n",
    "\t<font face=\"XB Zar\" size=5>\n",
    "\t\t<font color=#FF7500 size=6>\n",
    "            23 Practical\n",
    "        </font>\n",
    "\t\t<p></p>\n",
    "\t\t<hr>\n",
    "\t</font>\n",
    "</div>"
   ]
  },
  {
   "cell_type": "code",
   "execution_count": 47,
   "metadata": {},
   "outputs": [
    {
     "data": {
      "image/png": "[encoded data removed]",
      "text/plain": [
       "<Figure size 2000x1000 with 1 Axes>"
      ]
     },
     "metadata": {},
     "output_type": "display_data"
    }
   ],
   "source": [
    "p=0.34\n",
    "\n",
    "x = [i for i in range(10,201,10)]\n",
    "res = []\n",
    "for i in range(10,201,10):\n",
    "    res.append(test(i,p))\n",
    "    \n",
    "figure(figsize=(20, 10), dpi=100)\n",
    "plt.stackplot(x,res,color=\"lightgreen\")\n",
    "plt.bar(x,res,color='blue')\n",
    "plt.plot()\n",
    "plt.show()\n"
   ]
  },
  {
   "cell_type": "markdown",
   "metadata": {},
   "source": [
    "<p></p>\n",
    "<br />\n",
    "<div id=\"sec_intro_to_intro\" style=\"direction:ltl;line-height:300%;\">\n",
    "\t<font face=\"XB Zar\" size=5>\n",
    "\t\t<font color=#FF7500 size=6>\n",
    "            32 Theory\n",
    "        </font>\n",
    "\t\t<p></p>\n",
    "       Except for this two vertices, between the remaining vertices , each vertex is connected with probability $p^2$ to both , so there are no shared neighbors with probability $1-p^2$, so we have:\n",
    "        $$ P[I_{u,v}=1] = (1-p^2)^{n-2} $$\n",
    "        <br />\n",
    "\t</font>\n",
    "</div>"
   ]
  },
  {
   "cell_type": "markdown",
   "metadata": {},
   "source": [
    "<p></p>\n",
    "<br />\n",
    "<div id=\"sec_intro_to_intro\" style=\"direction:ltl;line-height:300%;\">\n",
    "\t<font face=\"XB Zar\" size=5>\n",
    "\t\t<font color=#FF7500 size=6>\n",
    "            33 Theory\n",
    "        </font>\n",
    "\t\t<p></p>\n",
    "        According to the indicator variable of the previous section, we can say:\n",
    "        $$ X_n= \\sum_{u,v \\in V}I_{u,v}$$\n",
    "        $$E[X_n]={n \\choose 2}E[I_{u,v}]={n \\choose 2}(1-p^2)^{n-2}$$\n",
    "        <br />\n",
    "\t</font>\n",
    "</div>"
   ]
  },
  {
   "cell_type": "markdown",
   "metadata": {},
   "source": [
    "<p></p>\n",
    "<br />\n",
    "<div id=\"sec_intro_to_intro\" style=\"direction:ltl;line-height:300%;\">\n",
    "\t<font face=\"XB Zar\" size=5>\n",
    "\t\t<font color=#FF7500 size=6>\n",
    "            34 Theory\n",
    "        </font>\n",
    "\t\t<p></p>\n",
    "        According to markov inequality:\n",
    "        $$Pr(X_n \\ge 1) \\le \\frac{E[X_n]}{1}={n \\choose 2}(1-p^2)^{n-2}=\\frac{n(n-1)}{2}(1-p^2)^{n-2} \\\\$$ \n",
    "        $$lim_{n\\to\\infty}\\frac{n(n-1)}{2}(1-p^2)^{n-2}= \\frac{1}{2(1-p^2)^2}lim_{n\\to\\infty}{n(n-1)}(1-p^2)^{n} $$\n",
    "        let $1-p^2=\\frac{1}{a} , thus :$\n",
    "        $$= \\frac{a^2}{2}lim_{n\\to\\infty}\\frac{n(n-1)}{a^n}$$\n",
    "        L'Hôpital's rule\n",
    "        $$ = \\frac{a^2}{2}lim_{n\\to\\infty}\\frac{2n-1}{a^nLn(a)}$$\n",
    "         L'Hôpital's rule\n",
    "        $$ = \\frac{a^2}{2}lim_{n\\to\\infty}\\frac{2}{a^nLn^2(a)}$$\n",
    "        $1-p^2 \\le 1 $ so $ a\\ge 1$ , thus :\n",
    "        $$ = \\frac{a^2}{2} * 0 = 0 \\\\ \\\\ \\\\ $$\n",
    "        so we have : $lim_{n \\to \\infty}Pr(X_n \\ge 1) \\le 0 $\n",
    "        <br />\n",
    "\t</font>\n",
    "</div>"
   ]
  },
  {
   "cell_type": "markdown",
   "metadata": {},
   "source": [
    "<p></p>\n",
    "<br />\n",
    "<div id=\"sec_intro_to_intro\" style=\"direction:ltl;line-height:300%;\">\n",
    "\t<font face=\"XB Zar\" size=5>\n",
    "\t\t<font color=#FF7500 size=6>\n",
    "            35 Theory\n",
    "        </font>\n",
    "\t\t<p></p>\n",
    "       $lim_{n \\to \\infty}Pr(X_n \\ge 1) \\le 0  \\\\$\n",
    "        $ lim_{n \\to \\infty}Pr(X_n=0) = 1 \\\\$\n",
    "        $X_n = 0 $ for big n.\n",
    "        <p></p>\n",
    "       Therefore, it can be claimed that each both vertices have a common neighbor, so the maximum diameter of the graph is equal to 2, which is obtained independently of p. According to the simulation, as expected, as n increases, the diameter of the graph tends to 2.\n",
    "        <br />\n",
    "\t</font>\n",
    "</div>"
   ]
  },
  {
   "cell_type": "markdown",
   "metadata": {},
   "source": [
    "<p></p>\n",
    "<br />\n",
    "<div id=\"sec_intro_to_intro\" style=\"direction:ltl;line-height:300%;\">\n",
    "\t<font face=\"XB Zar\" size=5>\n",
    "\t\t<font color=#FF7500 size=6>\n",
    "            24 Practical\n",
    "        </font>\n",
    "\t\t<p></p>\n",
    "\t\t<hr>\n",
    "\t</font>\n",
    "</div>"
   ]
  },
  {
   "cell_type": "code",
   "execution_count": 48,
   "metadata": {},
   "outputs": [
    {
     "name": "stdout",
     "output_type": "stream",
     "text": [
      "miu is :  6428.61\n"
     ]
    }
   ],
   "source": [
    "n=100\n",
    "p=0.34\n",
    "\n",
    "transition = []\n",
    "\n",
    "for i in range(100):\n",
    "    transition.append(inter(n,p)[0])\n",
    "\n",
    "print(\"miu is : \",np.mean(transition))"
   ]
  },
  {
   "cell_type": "markdown",
   "metadata": {},
   "source": [
    "<p></p>\n",
    "<br />\n",
    "<div id=\"sec_intro_to_intro\" style=\"direction:ltl;line-height:300%;\">\n",
    "\t<font face=\"XB Zar\" size=5>\n",
    "\t\t<font color=#FF7500 size=6>\n",
    "            25 Practical\n",
    "        </font>\n",
    "\t\t<p></p>\n",
    "\t\t<hr>\n",
    "\t</font>\n",
    "</div>"
   ]
  },
  {
   "cell_type": "code",
   "execution_count": 16,
   "metadata": {},
   "outputs": [
    {
     "name": "stdout",
     "output_type": "stream",
     "text": [
      "[25.9, 3.13, 1.07, 0.49, 0.2, 0.18, 0.09, 0.06, 0.04, 0.02]\n"
     ]
    },
    {
     "data": {
      "image/png": "[encoded data removed]",
      "text/plain": [
       "<Figure size 800x600 with 1 Axes>"
      ]
     },
     "metadata": {},
     "output_type": "display_data"
    }
   ],
   "source": [
    "triangle = []\n",
    "means = []\n",
    "xlab = []\n",
    "for i in range(10,101,10):\n",
    "    for j in range(100):\n",
    "        triangle.append(inter(i,60/i**2)[0])\n",
    "    means.append(np.mean(triangle))\n",
    "    triangle=[]\n",
    "    xlab.append(i)\n",
    "    \n",
    "print(means)   \n",
    "figure(figsize=(8, 6), dpi=100)\n",
    "plt.scatter(xlab,means,color='black')    \n",
    "plt.stackplot(xlab,means,color=\"khaki\")\n",
    "plt.plot()\n",
    "plt.show()"
   ]
  },
  {
   "cell_type": "markdown",
   "metadata": {},
   "source": [
    "<p></p>\n",
    "<br />\n",
    "<div id=\"sec_intro_to_intro\" style=\"direction:ltl;line-height:300%;\">\n",
    "\t<font face=\"XB Zar\" size=5>\n",
    "\t\t<font color=#FF7500 size=6>\n",
    "            26 Practical\n",
    "        </font>\n",
    "\t\t<p></p>\n",
    "\t\t<hr>\n",
    "\t</font>\n",
    "</div>"
   ]
  },
  {
   "cell_type": "code",
   "execution_count": 19,
   "metadata": {},
   "outputs": [
    {
     "name": "stdout",
     "output_type": "stream",
     "text": [
      "[4.93, 44.3, 163.73, 386.31, 776.5, 1330.31, 2151.31, 3221.93, 4550.82, 6334.61]\n"
     ]
    },
    {
     "data": {
      "image/png": "[encoded data removed]",
      "text/plain": [
       "<Figure size 800x600 with 1 Axes>"
      ]
     },
     "metadata": {},
     "output_type": "display_data"
    }
   ],
   "source": [
    "p=0.34\n",
    "\n",
    "triangle = []\n",
    "means = []\n",
    "xlab = []\n",
    "for i in range(10,101,10):\n",
    "    for j in range(100):\n",
    "        triangle.append(inter(i,p)[0])\n",
    "    means.append(np.mean(triangle))\n",
    "    triangle=[]\n",
    "    xlab.append(i)\n",
    "    \n",
    "print(means)   \n",
    "figure(figsize=(8, 6), dpi=100)\n",
    "plt.scatter(xlab,means,color='black')    \n",
    "plt.stackplot(xlab,means,color=\"khaki\")\n",
    "plt.plot()\n",
    "plt.show()"
   ]
  },
  {
   "cell_type": "markdown",
   "metadata": {},
   "source": [
    "<p></p>\n",
    "<br />\n",
    "<div id=\"sec_intro_to_intro\" style=\"direction:ltl;line-height:300%;\">\n",
    "\t<font face=\"XB Zar\" size=5>\n",
    "\t\t<font color=#FF7500 size=6>\n",
    "            27 Practical\n",
    "        </font>\n",
    "\t\t<p></p>\n",
    "\t\t<hr>\n",
    "\t</font>\n",
    "</div>"
   ]
  },
  {
   "cell_type": "code",
   "execution_count": 26,
   "metadata": {},
   "outputs": [
    {
     "name": "stdout",
     "output_type": "stream",
     "text": [
      "[0.2, 0.4, 0.2, 0.4, 0.4, 0.2, 0.0, 0.2, 0.2, 0.2, 0.0, 0.0, 0.0, 0.0, 0.2, 0.6, 0.0, 0.4, 0.0, 0.0, 0.2, 0.0, 0.0, 0.0]\n"
     ]
    },
    {
     "data": {
      "image/png": "[encoded data removed]",
      "text/plain": [
       "<Figure size 800x600 with 1 Axes>"
      ]
     },
     "metadata": {},
     "output_type": "display_data"
    },
    {
     "data": {
      "text/plain": [
       "<Figure size 640x480 with 0 Axes>"
      ]
     },
     "metadata": {},
     "output_type": "display_data"
    },
    {
     "data": {
      "image/png": "[encoded data removed]",
      "text/plain": [
       "<Figure size 800x600 with 1 Axes>"
      ]
     },
     "metadata": {},
     "output_type": "display_data"
    }
   ],
   "source": [
    "triangle = []\n",
    "means = []\n",
    "xlab = []\n",
    "for i in range(50,1201,50):\n",
    "    for j in range(5):\n",
    "        triangle.append(inter(i,1/i)[0])\n",
    "    means.append(np.mean(triangle))\n",
    "    triangle=[]\n",
    "    xlab.append(i)\n",
    "    \n",
    "print(means)   \n",
    "figure(figsize=(8, 6), dpi=100)\n",
    "plt.scatter(xlab,means,color='black')    \n",
    "plt.stackplot(xlab,means,color=\"khaki\")\n",
    "plt.plot()\n",
    "plt.show()\n",
    "\n",
    "\n",
    "cumYarr=np.cumsum(means,axis=0)\n",
    "cumXarr = np.cumsum(xlab, axis=0)\n",
    "figure(figsize=(8, 6), dpi=80)\n",
    "for i in range(len(cumYarr)):\n",
    "    cumYarr[i]=cumYarr[i]/cumXarr[i]\n",
    "    \n",
    "    \n",
    "figure(figsize=(8, 6), dpi=100)\n",
    "plt.scatter(cumXarr,cumYarr,color='black')    \n",
    "plt.stackplot(cumXarr,cumYarr,color=\"khaki\")\n",
    "plt.plot()\n",
    "plt.show()"
   ]
  },
  {
   "cell_type": "markdown",
   "metadata": {},
   "source": [
    "<p></p>\n",
    "<br />\n",
    "<div id=\"sec_intro_to_intro\" style=\"direction:ltl;line-height:300%;\">\n",
    "\t<font face=\"XB Zar\" size=5>\n",
    "\t\t<font color=\"black\" size=4>\n",
    "           we can see cumulative mean goes to zero\n",
    "        </font>\n",
    "\t\t<p></p>\n",
    "\t\t<hr>\n",
    "\t</font>\n",
    "</div>"
   ]
  }
 ],
 "metadata": {
  "kernelspec": {
   "display_name": "Python 3 (ipykernel)",
   "language": "python",
   "name": "python3"
  },
  "language_info": {
   "codemirror_mode": {
    "name": "ipython",
    "version": 3
   },
   "file_extension": ".py",
   "mimetype": "text/x-python",
   "name": "python",
   "nbconvert_exporter": "python",
   "pygments_lexer": "ipython3",
   "version": "3.9.13"
  },
  "latex_envs": {
   "LaTeX_envs_menu_present": true,
   "autoclose": false,
   "autocomplete": true,
   "bibliofile": "biblio.bib",
   "cite_by": "apalike",
   "current_citInitial": 1,
   "eqLabelWithNumbers": true,
   "eqNumInitial": 1,
   "hotkeys": {
    "equation": "Ctrl-E",
    "itemize": "Ctrl-I"
   },
   "labels_anchors": false,
   "latex_user_defs": false,
   "report_style_numbering": false,
   "user_envs_cfg": false
  },
  "toc": {
   "base_numbering": 1,
   "nav_menu": {},
   "number_sections": true,
   "sideBar": true,
   "skip_h1_title": false,
   "title_cell": "Table of Contents",
   "title_sidebar": "Contents",
   "toc_cell": false,
   "toc_position": {},
   "toc_section_display": true,
   "toc_window_display": false
  },
  "varInspector": {
   "cols": {
    "lenName": 16,
    "lenType": 16,
    "lenVar": 40
   },
   "kernels_config": {
    "python": {
     "delete_cmd_postfix": "",
     "delete_cmd_prefix": "del ",
     "library": "var_list.py",
     "varRefreshCmd": "print(var_dic_list())"
    },
    "r": {
     "delete_cmd_postfix": ") ",
     "delete_cmd_prefix": "rm(",
     "library": "var_list.r",
     "varRefreshCmd": "cat(var_dic_list()) "
    }
   },
   "types_to_exclude": [
    "module",
    "function",
    "builtin_function_or_method",
    "instance",
    "_Feature"
   ],
   "window_display": false
  }
 },
 "nbformat": 4,
 "nbformat_minor": 1
}
